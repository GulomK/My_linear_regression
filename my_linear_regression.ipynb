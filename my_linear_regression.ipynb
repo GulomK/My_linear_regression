{
 "cells": [
  {
   "cell_type": "code",
   "execution_count": 121,
   "id": "28509dc3",
   "metadata": {},
   "outputs": [],
   "source": [
    "import numpy as np\n",
    "from numpy.linalg import inv\n",
    "import matplotlib.pyplot as plt"
   ]
  },
  {
   "cell_type": "code",
   "execution_count": 122,
   "id": "7169a6b4",
   "metadata": {},
   "outputs": [],
   "source": [
    "def h(x, theta):\n",
    "    a = np.dot(x, theta)\n",
    "    return a.reshape(-1, 1)"
   ]
  },
  {
   "cell_type": "code",
   "execution_count": 123,
   "id": "d1c0f64f",
   "metadata": {},
   "outputs": [],
   "source": [
    "def mean_squared_error(y_predicted, y_label):\n",
    "    return np.square(np.subtract(y_predicted, y_label)).mean()"
   ]
  },
  {
   "cell_type": "code",
   "execution_count": 124,
   "id": "fe70387e",
   "metadata": {},
   "outputs": [],
   "source": [
    "class LeastSquaresRegression():\n",
    "    def __init__(self,):\n",
    "        self.theta = None\n",
    "        \n",
    "    def fit(self, X, y):\n",
    "        part_1 = np.dot(np.transpose(X), X)\n",
    "        inv_part_1 = inv(part_1)\n",
    "        part_2 = np.dot(np.transpose(X), y)\n",
    "        self.theta_ = np.dot(inv_part_1, part_2)\n",
    "        return self.theta_\n",
    "        \n",
    "    def predict(self, X):\n",
    "        return h(X, self.theta_)"
   ]
  },
  {
   "cell_type": "code",
   "execution_count": 125,
   "id": "691c52ca",
   "metadata": {},
   "outputs": [
    {
     "data": {
      "text/plain": [
       "<matplotlib.collections.PathCollection at 0x7f9e32281e80>"
      ]
     },
     "execution_count": 125,
     "metadata": {},
     "output_type": "execute_result"
    },
    {
     "data": {
      "image/png": "[encoded data removed]",
      "text/plain": [
       "<Figure size 432x288 with 1 Axes>"
      ]
     },
     "metadata": {
      "needs_background": "light"
     },
     "output_type": "display_data"
    }
   ],
   "source": [
    "X = 4 * np.random.rand(100, 1)\n",
    "y = 10 + 2 * X + np.random.randn(100, 1)\n",
    "plt.scatter(X, y)"
   ]
  },
  {
   "cell_type": "code",
   "execution_count": 126,
   "id": "74c34493",
   "metadata": {},
   "outputs": [
    {
     "name": "stdout",
     "output_type": "stream",
     "text": [
      "[[2.47806657]\n",
      " [3.81788806]\n",
      " [3.40041285]\n",
      " [1.02463793]\n",
      " [3.054516  ]]\n",
      " ---- \n",
      "[[1.         2.47806657]\n",
      " [1.         3.81788806]\n",
      " [1.         3.40041285]\n",
      " [1.         1.02463793]\n",
      " [1.         3.054516  ]]\n"
     ]
    }
   ],
   "source": [
    "def bias_column(X):\n",
    "    return np.hstack((np.ones((np.size(X, 0), 1)), X))\n",
    "\n",
    "X_new = bias_column(X)\n",
    "print(X[:5])\n",
    "print(\" ---- \")\n",
    "print(X_new[:5])"
   ]
  },
  {
   "cell_type": "code",
   "execution_count": 127,
   "id": "ab17969c",
   "metadata": {},
   "outputs": [
    {
     "name": "stdout",
     "output_type": "stream",
     "text": [
      "[[9.98099856]\n",
      " [1.9364418 ]]\n"
     ]
    }
   ],
   "source": [
    "model = LeastSquaresRegression()\n",
    "model.fit(X_new, y)\n",
    "\n",
    "print(model.theta_)"
   ]
  },
  {
   "cell_type": "code",
   "execution_count": 128,
   "id": "62b3326c",
   "metadata": {},
   "outputs": [
    {
     "data": {
      "image/png": "[encoded data removed]",
      "text/plain": [
       "<Figure size 432x288 with 1 Axes>"
      ]
     },
     "metadata": {
      "needs_background": "light"
     },
     "output_type": "display_data"
    }
   ],
   "source": [
    "y_new = model.predict(X_new)\n",
    "\n",
    "def my_plot(X, y):\n",
    "    plt.scatter(X, y)\n",
    "    plt.plot(X, y_new, color=\"r\")\n",
    "my_plot(X, y)"
   ]
  },
  {
   "cell_type": "code",
   "execution_count": 129,
   "id": "8afa8511",
   "metadata": {},
   "outputs": [],
   "source": [
    "class GradientDescentOptimizer():\n",
    "    \n",
    "    def __init__(self, f, fprime, start, learning_rate = 0.1):\n",
    "        self.f_      = f                       \n",
    "        self.fprime_ = fprime                  \n",
    "        self.current_ = start                  \n",
    "        self.learning_rate_ = learning_rate    \n",
    "        self.history_ = [start]\n",
    "    \n",
    "    def step(self):\n",
    "        self.current_ = self.current_ - self.learning_rate_ * self.fprime_(self.current_)\n",
    "        np.append(self.history_, self.current_)\n",
    "\n",
    "        \n",
    "    def optimize(self, iterations = 100):\n",
    "        i = 0\n",
    "        while i < iterations:\n",
    "                self.step()\n",
    "                i += 1\n",
    "\n",
    "    def getCurrentValue(self):\n",
    "        return self.current_\n",
    "\n",
    "    def print_result(self):\n",
    "        print(\"Best theta found is \" + str(self.current_))\n",
    "        print(\"Value of f at this theta: f(theta) = \" + str(self.f_(self.current_)))\n",
    "        print(\"Value of f prime at this theta: f'(theta) = \" + str(self.fprime_(self.current_)))"
   ]
  },
  {
   "cell_type": "code",
   "execution_count": 130,
   "id": "731bfa18",
   "metadata": {},
   "outputs": [],
   "source": [
    "def f(x):\n",
    "    a = np.array([2, 6])\n",
    "    return 3 + np.dot((x - a).T, (x - a.T))"
   ]
  },
  {
   "cell_type": "code",
   "execution_count": 131,
   "id": "d850f50b",
   "metadata": {},
   "outputs": [],
   "source": [
    "def fprime(x):\n",
    "    a = np.array([2, 6])\n",
    "    return 2 * (x - a) "
   ]
  },
  {
   "cell_type": "code",
   "execution_count": 132,
   "id": "b6e597fc",
   "metadata": {},
   "outputs": [
    {
     "name": "stdout",
     "output_type": "stream",
     "text": [
      "Best theta found is [1.68844618 5.24097185]\n",
      "Value of f at this theta: f(theta) = 3.6731895162735198\n",
      "Value of f prime at this theta: f'(theta) = [-0.62310765 -1.5180563 ]\n"
     ]
    }
   ],
   "source": [
    "grad = GradientDescentOptimizer(f, fprime, np.random.normal(size=(2,)), 0.1)\n",
    "grad.optimize(10)\n",
    "grad.print_result()"
   ]
  },
  {
   "cell_type": "code",
   "execution_count": null,
   "id": "201f308a",
   "metadata": {
    "scrolled": false
   },
   "outputs": [
    {
     "name": "stdout",
     "output_type": "stream",
     "text": [
      "\n",
      "\u001b[94m\n",
      " ██████╗ ██╗    ██╗ █████╗ ███████╗ █████╗ ██████╗    ██╗ ██████╗ \n",
      "██╔═══██╗██║    ██║██╔══██╗██╔════╝██╔══██╗██╔══██╗   ██║██╔═══██╗\n",
      "██║   ██║██║ █╗ ██║███████║███████╗███████║██████╔╝   ██║██║   ██║\n",
      "██║▄▄ ██║██║███╗██║██╔══██║╚════██║██╔══██║██╔══██╗   ██║██║   ██║\n",
      "╚██████╔╝╚███╔███╔╝██║  ██║███████║██║  ██║██║  ██║██╗██║╚██████╔╝\n",
      " ╚══▀▀═╝  ╚══╝╚══╝ ╚═╝  ╚═╝╚══════╝╚═╝  ╚═╝╚═╝  ╚═╝╚═╝╚═╝ ╚═════╝ \n",
      "\t\t\t\t\t\t\t\t\t\t\t\t\t\t\t\t\t\t\t\t\t\t\t\t\t\t\t\t\t\t\t\t \u001b[0m\n",
      "Booting Gandalf v4.1.12-deab022 (production)\n",
      "Loading parameters:  \u001b[32mOK\u001b[0m\n",
      "User kurganov_s connection: \u001b[32mOK\u001b[0m\n",
      "\n",
      "\n",
      "<MY_LINEAR_REGRESSION>\n",
      "Directory . exists: \u001b[32mOK\u001b[0m\n",
      "Pushing exercise:"
     ]
    }
   ],
   "source": [
    "!gandalf"
   ]
  },
  {
   "cell_type": "code",
   "execution_count": null,
   "id": "54f56a50",
   "metadata": {},
   "outputs": [],
   "source": []
  }
 ],
 "metadata": {
  "kernelspec": {
   "display_name": "Python 3",
   "language": "python",
   "name": "python3"
  },
  "language_info": {
   "codemirror_mode": {
    "name": "ipython",
    "version": 3
   },
   "file_extension": ".py",
   "mimetype": "text/x-python",
   "name": "python",
   "nbconvert_exporter": "python",
   "pygments_lexer": "ipython3",
   "version": "3.6.7"
  }
 },
 "nbformat": 4,
 "nbformat_minor": 5
}
